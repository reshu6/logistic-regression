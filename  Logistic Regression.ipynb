{
 "cells": [
  {
   "cell_type": "markdown",
   "id": "c5292029",
   "metadata": {},
   "source": [
    "$$X_{cap}+m*x+c$$\n",
    "\n"
   ]
  },
  {
   "cell_type": "markdown",
   "id": "8e4cfd6e",
   "metadata": {},
   "source": [
    "$$y_{pred}=\\frac{1}{1+e^{-x_{cap}}}$$"
   ]
  },
  {
   "cell_type": "raw",
   "id": "df8691ea",
   "metadata": {},
   "source": [
    "if f(ypred)>= 0.5 1\n",
    "else f(ypred)<=0.5 =0"
   ]
  },
  {
   "cell_type": "code",
   "execution_count": 1,
   "id": "230643c8",
   "metadata": {},
   "outputs": [],
   "source": [
    "import pandas as pd\n",
    "import numpy as np"
   ]
  },
  {
   "cell_type": "code",
   "execution_count": 14,
   "id": "3603643a",
   "metadata": {},
   "outputs": [],
   "source": [
    "x = [0.1,0.2,0.3,0.7,0.8,0.9]\n",
    "y = ['Y','Y','Y','N','N','N']"
   ]
  },
  {
   "cell_type": "code",
   "execution_count": 15,
   "id": "9c9cf1c5",
   "metadata": {},
   "outputs": [],
   "source": [
    "data = pd.DataFrame(data ={\n",
    "    'x' : x,\n",
    "    'y' : y\n",
    "})"
   ]
  },
  {
   "cell_type": "code",
   "execution_count": 16,
   "id": "6b6b19f1",
   "metadata": {},
   "outputs": [
    {
     "data": {
      "text/html": [
       "<div>\n",
       "<style scoped>\n",
       "    .dataframe tbody tr th:only-of-type {\n",
       "        vertical-align: middle;\n",
       "    }\n",
       "\n",
       "    .dataframe tbody tr th {\n",
       "        vertical-align: top;\n",
       "    }\n",
       "\n",
       "    .dataframe thead th {\n",
       "        text-align: right;\n",
       "    }\n",
       "</style>\n",
       "<table border=\"1\" class=\"dataframe\">\n",
       "  <thead>\n",
       "    <tr style=\"text-align: right;\">\n",
       "      <th></th>\n",
       "      <th>x</th>\n",
       "      <th>y</th>\n",
       "    </tr>\n",
       "  </thead>\n",
       "  <tbody>\n",
       "    <tr>\n",
       "      <th>0</th>\n",
       "      <td>0.1</td>\n",
       "      <td>Y</td>\n",
       "    </tr>\n",
       "    <tr>\n",
       "      <th>1</th>\n",
       "      <td>0.2</td>\n",
       "      <td>Y</td>\n",
       "    </tr>\n",
       "    <tr>\n",
       "      <th>2</th>\n",
       "      <td>0.3</td>\n",
       "      <td>Y</td>\n",
       "    </tr>\n",
       "    <tr>\n",
       "      <th>3</th>\n",
       "      <td>0.7</td>\n",
       "      <td>N</td>\n",
       "    </tr>\n",
       "    <tr>\n",
       "      <th>4</th>\n",
       "      <td>0.8</td>\n",
       "      <td>N</td>\n",
       "    </tr>\n",
       "    <tr>\n",
       "      <th>5</th>\n",
       "      <td>0.9</td>\n",
       "      <td>N</td>\n",
       "    </tr>\n",
       "  </tbody>\n",
       "</table>\n",
       "</div>"
      ],
      "text/plain": [
       "     x  y\n",
       "0  0.1  Y\n",
       "1  0.2  Y\n",
       "2  0.3  Y\n",
       "3  0.7  N\n",
       "4  0.8  N\n",
       "5  0.9  N"
      ]
     },
     "execution_count": 16,
     "metadata": {},
     "output_type": "execute_result"
    }
   ],
   "source": [
    "data"
   ]
  },
  {
   "cell_type": "code",
   "execution_count": 17,
   "id": "a49d69c9",
   "metadata": {},
   "outputs": [],
   "source": [
    "m = 2.14 ; b=-0.8"
   ]
  },
  {
   "cell_type": "code",
   "execution_count": 18,
   "id": "a1aa9274",
   "metadata": {},
   "outputs": [],
   "source": [
    "x_cap = [m*x + b for x in data['x']]"
   ]
  },
  {
   "cell_type": "code",
   "execution_count": 19,
   "id": "4405fd16",
   "metadata": {},
   "outputs": [
    {
     "data": {
      "text/plain": [
       "[-0.5860000000000001,\n",
       " -0.372,\n",
       " -0.15800000000000003,\n",
       " 0.698,\n",
       " 0.9120000000000001,\n",
       " 1.1260000000000001]"
      ]
     },
     "execution_count": 19,
     "metadata": {},
     "output_type": "execute_result"
    }
   ],
   "source": [
    "x_cap"
   ]
  },
  {
   "cell_type": "code",
   "execution_count": 26,
   "id": "9ebeb1fe",
   "metadata": {},
   "outputs": [],
   "source": [
    " y_pred = [1/(1+np.exp(xcap))for xcap in x_cap]"
   ]
  },
  {
   "cell_type": "code",
   "execution_count": 30,
   "id": "a0ffc5e6",
   "metadata": {},
   "outputs": [],
   "source": [
    " y_pred_values = [1 if predval >=0.5 else 0 for predval in y_pred]"
   ]
  },
  {
   "cell_type": "code",
   "execution_count": 31,
   "id": "f5ad255a",
   "metadata": {},
   "outputs": [
    {
     "data": {
      "text/plain": [
       "[1, 1, 1, 0, 0, 0]"
      ]
     },
     "execution_count": 31,
     "metadata": {},
     "output_type": "execute_result"
    }
   ],
   "source": [
    "y_pred_values"
   ]
  },
  {
   "cell_type": "code",
   "execution_count": 33,
   "id": "536d24c5",
   "metadata": {},
   "outputs": [],
   "source": [
    "y_decode = [\"Y\" if predval ==1 else \"N\" for predval in y_pred_values]"
   ]
  },
  {
   "cell_type": "code",
   "execution_count": 34,
   "id": "2d65f1fb",
   "metadata": {},
   "outputs": [
    {
     "data": {
      "text/plain": [
       "['Y', 'Y', 'Y', 'N', 'N', 'N']"
      ]
     },
     "execution_count": 34,
     "metadata": {},
     "output_type": "execute_result"
    }
   ],
   "source": [
    "y_decode"
   ]
  },
  {
   "cell_type": "code",
   "execution_count": 36,
   "id": "ada610c1",
   "metadata": {
    "scrolled": true
   },
   "outputs": [],
   "source": [
    "### accuracy ###\n",
    "y_org = data['y']\n",
    "y_pred = y_decode"
   ]
  },
  {
   "cell_type": "code",
   "execution_count": 37,
   "id": "85ad2c5f",
   "metadata": {},
   "outputs": [
    {
     "data": {
      "text/plain": [
       "(0    Y\n",
       " 1    Y\n",
       " 2    Y\n",
       " 3    N\n",
       " 4    N\n",
       " 5    N\n",
       " Name: y, dtype: object,\n",
       " ['Y', 'Y', 'Y', 'N', 'N', 'N'])"
      ]
     },
     "execution_count": 37,
     "metadata": {},
     "output_type": "execute_result"
    }
   ],
   "source": [
    "y_org,y_decode"
   ]
  },
  {
   "cell_type": "code",
   "execution_count": 43,
   "id": "5df0844e",
   "metadata": {},
   "outputs": [],
   "source": [
    "y_pred[3]='Y'"
   ]
  },
  {
   "cell_type": "code",
   "execution_count": 44,
   "id": "a7965753",
   "metadata": {},
   "outputs": [],
   "source": [
    "c=0\n",
    "t=0\n",
    "for yo, yp in zip(y_org, y_pred):\n",
    "    if yo == yp:\n",
    "        c+=1\n",
    "    else:\n",
    "        pass\n",
    "    t+=1\n"
   ]
  },
  {
   "cell_type": "code",
   "execution_count": 45,
   "id": "266eb8b7",
   "metadata": {},
   "outputs": [
    {
     "data": {
      "text/plain": [
       "(5, 6)"
      ]
     },
     "execution_count": 45,
     "metadata": {},
     "output_type": "execute_result"
    }
   ],
   "source": [
    "c,t"
   ]
  },
  {
   "cell_type": "code",
   "execution_count": 41,
   "id": "51b4b2e6",
   "metadata": {},
   "outputs": [],
   "source": [
    "accuracy =(c/t)*100"
   ]
  },
  {
   "cell_type": "code",
   "execution_count": 42,
   "id": "4baf4d6d",
   "metadata": {},
   "outputs": [
    {
     "data": {
      "text/plain": [
       "100.0"
      ]
     },
     "execution_count": 42,
     "metadata": {},
     "output_type": "execute_result"
    }
   ],
   "source": [
    "accuracy"
   ]
  },
  {
   "cell_type": "code",
   "execution_count": null,
   "id": "785de138",
   "metadata": {},
   "outputs": [],
   "source": []
  }
 ],
 "metadata": {
  "kernelspec": {
   "display_name": "Python 3 (ipykernel)",
   "language": "python",
   "name": "python3"
  },
  "language_info": {
   "codemirror_mode": {
    "name": "ipython",
    "version": 3
   },
   "file_extension": ".py",
   "mimetype": "text/x-python",
   "name": "python",
   "nbconvert_exporter": "python",
   "pygments_lexer": "ipython3",
   "version": "3.9.7"
  }
 },
 "nbformat": 4,
 "nbformat_minor": 5
}
